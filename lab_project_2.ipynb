{
 "cells": [
  {
   "cell_type": "markdown",
   "metadata": {},
   "source": [
    "Topic 3 : Understanding the Formation of the Spectra in a Bright Point\n",
    "---\n",
    "---\n",
    "\n",
    "# Objectives\n",
    "---\n",
    "To understand how the spectra depend on the structure of the atmosphere. \n",
    "\n",
    "# Principles\n",
    "---\n",
    "Bright points appear brighter than the average quiet atmosphere at many wavelengths. The contrast is the highest in the inner wings of the H$\\alpha$ line and the Ca II line. Why does a bright point look different from the average atmosphere? To find an answer, we think of two hypotheses.\n",
    "\n",
    "1. **It is because bright points are hotter.** This effect can be modelled by multiplying $T$ by a constant factor $c$ greater than 1.\n",
    "2. **It is because bright points are evacuated.** The structure of temperature given as a function of height is the same as the average atmosphere. But the spectral formation region of a bright point is located lower and hotter than that of the average quiet atmosphere because the bright point is optically more transparent than the average atmosphere.\n",
    "The effect of evacuation can be modeled by decreasing the absorption coefficient or choosing the deeper region of the average atmospheric model $\\tau_\\lambda = c$ or $\\tau_r = c$ for with $c > 1$.\n",
    "\n",
    "# Procedures\n",
    "---\n",
    "The following procedures can be taken for either of the H$\\alpha$ band data set and the Ca II\n",
    "band data set.\n",
    "* Run demo.pro and compare the spectral profiles between the average quiet atmosphere and the bright point at (87, 60).\n",
    "* Use the results obtained for the average quiet atmosphere from the previous topic: $T_1(\\lambda)$ and $\\tau_r(\\lambda)$.\n",
    "* Test of the first hypothesis.\n",
    "    1. Guess a value of $c$.\n",
    "    2. Calculate $B_\\lambda(cT_1(\\lambda))$ and compare it with the observed profile of the bright point.\n",
    "    3. Repeat the above processes until the best agreement is obtained.\n",
    "* Test of the second hypothesis.\n",
    "    1. Guess a value of $c$.\n",
    "    2. Determine the temperature of the formation region using the relation $T^*_1(\\lambda) = T(c\\tau_r(\\lambda))$ where $T(t_r)$ is the run of temperature in the average quiet atmosphere.\n",
    "    3. Calculate $B_\\lambda(T^*_1(\\lambda))$ and compare it with the observed profile of the bright point.\n",
    "    4. Repeat the above processes until the best agreement is obtained.\n",
    "* Based on the results, discuss together how the difference between the two spectral profiles can be understood."
   ]
  },
  {
   "cell_type": "code",
   "execution_count": null,
   "metadata": {},
   "outputs": [],
   "source": []
  },
  {
   "cell_type": "code",
   "execution_count": null,
   "metadata": {},
   "outputs": [],
   "source": []
  }
 ],
 "metadata": {
  "kernelspec": {
   "display_name": "Python 3",
   "language": "python",
   "name": "python3"
  },
  "language_info": {
   "codemirror_mode": {
    "name": "ipython",
    "version": 3
   },
   "file_extension": ".py",
   "mimetype": "text/x-python",
   "name": "python",
   "nbconvert_exporter": "python",
   "pygments_lexer": "ipython3",
   "version": "3.6.5"
  }
 },
 "nbformat": 4,
 "nbformat_minor": 2
}
